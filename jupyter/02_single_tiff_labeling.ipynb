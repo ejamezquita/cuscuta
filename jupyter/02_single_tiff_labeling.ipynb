{
 "cells": [
  {
   "cell_type": "code",
   "execution_count": 1,
   "id": "e23936fb",
   "metadata": {},
   "outputs": [],
   "source": [
    "from glob import glob\n",
    "import cv2\n",
    "import numpy as np\n",
    "import itertools as it\n",
    "from numpy.polynomial import polynomial as P\n",
    "import matplotlib.pyplot as plt\n",
    "from matplotlib.patches import Circle, Polygon, Wedge\n",
    "import tifffile as tf\n",
    "\n",
    "from scipy import ndimage, signal, spatial\n",
    "from skimage import morphology\n",
    "\n",
    "import os\n",
    "import pandas as pd\n",
    "\n",
    "from importlib import reload\n",
    "\n",
    "import sklearn.linear_model as linear"
   ]
  },
  {
   "cell_type": "code",
   "execution_count": 2,
   "id": "0465874d",
   "metadata": {},
   "outputs": [],
   "source": [
    "boundary = ndimage.generate_binary_structure(2,2).astype(int) - 2\n",
    "boundary[1,1] = -(np.sum(boundary) + 1)\n",
    "unique = np.array([40, 120, 160, 200, 240], dtype=np.uint8)\n",
    "\n",
    "struc1 = ndimage.generate_binary_structure(2,1)\n",
    "struc2 = ndimage.generate_binary_structure(2,2)\n",
    "\n",
    "rsrc = '../raw/'\n",
    "src = '../proc/'\n",
    "dst = '../proc/plots/'\n",
    "time = '4pm'\n",
    "rep = 7\n",
    "pidx = 2\n",
    "\n",
    "asrc = src + 'anchory/' + time + '_rep{}/'.format(rep)\n",
    "psrc = src + 'prelim/' + time + '_rep{}/plant_{:02d}/'.format(rep,pidx)\n",
    "\n",
    "filenames = glob(psrc + '*.tif')\n",
    "\n",
    "nums = np.zeros(len(filenames), dtype=int) - 1\n",
    "for i in range(len(nums)):\n",
    "    num = os.path.splitext(os.path.split(filenames[i])[1])[0].split('_')[-1]\n",
    "    num = int(num)\n",
    "    nums[i] = num\n",
    "        \n",
    "anums = np.argsort(nums)"
   ]
  },
  {
   "cell_type": "code",
   "execution_count": 3,
   "id": "945ed2e5-5691-44b8-91bd-fc674ca491a9",
   "metadata": {},
   "outputs": [
    {
     "name": "stdout",
     "output_type": "stream",
     "text": [
      "(902, 17)\n"
     ]
    },
    {
     "data": {
      "text/html": [
       "<div>\n",
       "<style scoped>\n",
       "    .dataframe tbody tr th:only-of-type {\n",
       "        vertical-align: middle;\n",
       "    }\n",
       "\n",
       "    .dataframe tbody tr th {\n",
       "        vertical-align: top;\n",
       "    }\n",
       "\n",
       "    .dataframe thead th {\n",
       "        text-align: right;\n",
       "    }\n",
       "</style>\n",
       "<table border=\"1\" class=\"dataframe\">\n",
       "  <thead>\n",
       "    <tr style=\"text-align: right;\">\n",
       "      <th></th>\n",
       "      <th>0</th>\n",
       "      <th>1</th>\n",
       "      <th>2</th>\n",
       "      <th>3</th>\n",
       "      <th>4</th>\n",
       "      <th>5</th>\n",
       "      <th>6</th>\n",
       "      <th>7</th>\n",
       "      <th>8</th>\n",
       "      <th>9</th>\n",
       "      <th>10</th>\n",
       "      <th>11</th>\n",
       "      <th>12</th>\n",
       "      <th>13</th>\n",
       "      <th>14</th>\n",
       "      <th>15</th>\n",
       "      <th>16</th>\n",
       "    </tr>\n",
       "  </thead>\n",
       "  <tbody>\n",
       "    <tr>\n",
       "      <th>1</th>\n",
       "      <td>2752</td>\n",
       "      <td>4896</td>\n",
       "      <td>945</td>\n",
       "      <td>2081</td>\n",
       "      <td>0</td>\n",
       "      <td>200</td>\n",
       "      <td>0</td>\n",
       "      <td>945</td>\n",
       "      <td>1357</td>\n",
       "      <td>2895</td>\n",
       "      <td>400</td>\n",
       "      <td>944</td>\n",
       "      <td>403</td>\n",
       "      <td>757</td>\n",
       "      <td>724</td>\n",
       "      <td>185.921125</td>\n",
       "      <td>0.006282</td>\n",
       "    </tr>\n",
       "    <tr>\n",
       "      <th>2</th>\n",
       "      <td>2752</td>\n",
       "      <td>4896</td>\n",
       "      <td>933</td>\n",
       "      <td>2069</td>\n",
       "      <td>0</td>\n",
       "      <td>200</td>\n",
       "      <td>0</td>\n",
       "      <td>933</td>\n",
       "      <td>1341</td>\n",
       "      <td>2881</td>\n",
       "      <td>392</td>\n",
       "      <td>932</td>\n",
       "      <td>404</td>\n",
       "      <td>758</td>\n",
       "      <td>728</td>\n",
       "      <td>180.337551</td>\n",
       "      <td>0.010735</td>\n",
       "    </tr>\n",
       "    <tr>\n",
       "      <th>3</th>\n",
       "      <td>2752</td>\n",
       "      <td>4896</td>\n",
       "      <td>943</td>\n",
       "      <td>2061</td>\n",
       "      <td>0</td>\n",
       "      <td>200</td>\n",
       "      <td>0</td>\n",
       "      <td>943</td>\n",
       "      <td>1346</td>\n",
       "      <td>2877</td>\n",
       "      <td>395</td>\n",
       "      <td>942</td>\n",
       "      <td>390</td>\n",
       "      <td>747</td>\n",
       "      <td>715</td>\n",
       "      <td>181.982886</td>\n",
       "      <td>0.009714</td>\n",
       "    </tr>\n",
       "    <tr>\n",
       "      <th>4</th>\n",
       "      <td>2752</td>\n",
       "      <td>4896</td>\n",
       "      <td>929</td>\n",
       "      <td>2064</td>\n",
       "      <td>0</td>\n",
       "      <td>200</td>\n",
       "      <td>0</td>\n",
       "      <td>929</td>\n",
       "      <td>1346</td>\n",
       "      <td>2874</td>\n",
       "      <td>381</td>\n",
       "      <td>928</td>\n",
       "      <td>399</td>\n",
       "      <td>747</td>\n",
       "      <td>718</td>\n",
       "      <td>179.264705</td>\n",
       "      <td>0.010184</td>\n",
       "    </tr>\n",
       "    <tr>\n",
       "      <th>5</th>\n",
       "      <td>2752</td>\n",
       "      <td>4896</td>\n",
       "      <td>929</td>\n",
       "      <td>2065</td>\n",
       "      <td>0</td>\n",
       "      <td>200</td>\n",
       "      <td>0</td>\n",
       "      <td>929</td>\n",
       "      <td>1333</td>\n",
       "      <td>2875</td>\n",
       "      <td>379</td>\n",
       "      <td>928</td>\n",
       "      <td>422</td>\n",
       "      <td>760</td>\n",
       "      <td>732</td>\n",
       "      <td>177.980730</td>\n",
       "      <td>0.010895</td>\n",
       "    </tr>\n",
       "  </tbody>\n",
       "</table>\n",
       "</div>"
      ],
      "text/plain": [
       "     0     1    2     3   4    5   6    7     8     9    10   11   12   13  \\\n",
       "1  2752  4896  945  2081   0  200   0  945  1357  2895  400  944  403  757   \n",
       "2  2752  4896  933  2069   0  200   0  933  1341  2881  392  932  404  758   \n",
       "3  2752  4896  943  2061   0  200   0  943  1346  2877  395  942  390  747   \n",
       "4  2752  4896  929  2064   0  200   0  929  1346  2874  381  928  399  747   \n",
       "5  2752  4896  929  2065   0  200   0  929  1333  2875  379  928  422  760   \n",
       "\n",
       "    14          15        16  \n",
       "1  724  185.921125  0.006282  \n",
       "2  728  180.337551  0.010735  \n",
       "3  715  181.982886  0.009714  \n",
       "4  718  179.264705  0.010184  \n",
       "5  732  177.980730  0.010895  "
      ]
     },
     "execution_count": 3,
     "metadata": {},
     "output_type": "execute_result"
    }
   ],
   "source": [
    "metafile = '{}{}_rep{}_plant_{:02d}.csv'.format(asrc, time, rep, pidx)\n",
    "meta = pd.read_csv(metafile, header=None)\n",
    "meta.index = nums[anums]\n",
    "print(meta.shape)\n",
    "meta.head()"
   ]
  },
  {
   "cell_type": "code",
   "execution_count": 4,
   "id": "0bb60e4b",
   "metadata": {},
   "outputs": [],
   "source": [
    "lenraw = meta.iloc[0,0]\n",
    "tape = meta.iloc[:,2].values\n",
    "peak = meta.iloc[:,3].values\n",
    "buffx = meta.iloc[:,4].values\n",
    "buffy = meta.iloc[:,5].values\n",
    "\n",
    "plant = meta.iloc[:, 6:10].values.astype(int)\n",
    "pss = [ np.s_[plant[i,0]:plant[i,1], plant[i,2]:plant[i,3]] for i in range(len(plant)) ]\n",
    "\n",
    "ceros = meta.iloc[:, 10:14].values.astype(int)\n",
    "css = [ np.s_[ceros[i, 0]:ceros[i,1], ceros[i,2]:ceros[i,3]] for i in range(len(ceros)) ]\n",
    "coef = meta.iloc[:,15:].values\n",
    "\n",
    "rawx = ceros[:, 2] + plant[:, 2] - peak + buffy\n",
    "rawy = ceros[:, 0] + plant[:, 0] + buffx\n",
    "\n",
    "xvals = np.arange(lenraw)\n",
    "b0 = peak + coef[:, 0] - buffy\n",
    "lines = b0.reshape(-1,1) + np.outer(coef[:,1], xvals)\n",
    "\n",
    "line = [ lines[i][pss[i][0]] - plant[i,2] for i in range(len(pss)) ]\n",
    "ll = [ line[i][np.arange(ceros[i,0], ceros[i,1])] - ceros[i,2] for i in range(len(ceros))]\n",
    "xx = [ np.arange(ceros[i,1] - ceros[i,0]) for i in range(len(ceros)) ]\n",
    "\n",
    "v0 = np.column_stack((coef[:,1], np.ones(len(coef))))\n",
    "v = v0/(np.linalg.norm(v0, axis=1)).reshape(-1,1)\n",
    "n = np.column_stack((-v[:,1], v[:,0]))\n",
    "p = np.column_stack(([ll[i][0] for i in range(len(ll))], np.zeros(len(ll))))\n",
    "b = np.sum(p*n, axis=1)\n",
    "\n",
    "stick = [ np.s_[buffx[i]:tape[i]+buffx[i], peak[i]-buffy[i]:peak[i]+buffy[i]] for i in range(len(tape)) ]"
   ]
  },
  {
   "cell_type": "markdown",
   "id": "fe72fe2b-f9c6-4793-93b1-33b367098317",
   "metadata": {},
   "source": [
    "# Specify the timestamp"
   ]
  },
  {
   "cell_type": "code",
   "execution_count": 28,
   "id": "b992e83d",
   "metadata": {},
   "outputs": [
    {
     "name": "stdout",
     "output_type": "stream",
     "text": [
      "../proc/prelim/4pm_rep7/plant_02/4pm_rep07_0448.tif\n",
      "(360, 127) 240\n"
     ]
    }
   ],
   "source": [
    "idx = 447\n",
    "print(filenames[anums[idx]])\n",
    "img = tf.imread(filenames[anums[idx]])\n",
    "scoords = np.asarray(np.nonzero(img > 160))\n",
    "skewer = (img == 40) | (img == 160) | (img == 240)\n",
    "contour = ndimage.grey_erosion(skewer, size=(1,21), mode='constant', cval=255).astype(bool)\n",
    "img = img*contour\n",
    "#contour = ndimage.convolve(skewer, boundary, mode='constant')\n",
    "print(img.shape, img.max())"
   ]
  },
  {
   "cell_type": "code",
   "execution_count": 29,
   "id": "a7735cda",
   "metadata": {},
   "outputs": [
    {
     "name": "stdout",
     "output_type": "stream",
     "text": [
      "Min dist: 0.05\n",
      "Max dist: 22.34\n",
      "91 True\n"
     ]
    }
   ],
   "source": [
    "if img.max() > 160:\n",
    "    cross = np.asarray(np.nonzero(img > 180))\n",
    "    dist = np.abs(cross[1]*n[idx, 0] + cross[0]*n[idx, 1] - b[idx])\n",
    "    print('Min dist: {:.2f}\\nMax dist: {:.2f}'.format(np.min(dist),np.max(dist)))\n",
    "    mask = dist < 30\n",
    "    print(np.sum(mask), np.sum(mask) > 5)"
   ]
  },
  {
   "cell_type": "code",
   "execution_count": 30,
   "id": "141d8012",
   "metadata": {},
   "outputs": [
    {
     "name": "stdout",
     "output_type": "stream",
     "text": [
      "1 components\t 1 preserved\n",
      "[91] [1.]\n",
      "where:\t [0]\n"
     ]
    }
   ],
   "source": [
    "num = 0\n",
    "if img.max() > 160:\n",
    "    skel = np.zeros(img.shape, dtype=bool)\n",
    "    skel[cross[0, mask], cross[1, mask]] = True\n",
    "    labels,num = ndimage.label(skel, structure=ndimage.generate_binary_structure(2,2))\n",
    "    \n",
    "    if num > 0:\n",
    "        hist,bins = np.histogram(labels, bins=num, range=(1,num+1))\n",
    "        where = np.nonzero((hist/np.sum(hist) > 0.1))[0]\n",
    "        \n",
    "        print(num,'components\\t', len(where), 'preserved')\n",
    "        print(hist, np.round(hist/np.sum(hist), 2))\n",
    "        print('where:\\t', where)\n",
    "        \n",
    "        if len(where) > 1:\n",
    "            merged = dict()\n",
    "            coords = dict()\n",
    "            for i in range(len(where)):\n",
    "                coords[where[i]] = np.asarray(np.nonzero(labels == where[i] + 1))\n",
    "                merged[where[i]] = []\n",
    "        \n",
    "            combs = list(it.combinations(where, 2))\n",
    "            for i in range(len(combs)):\n",
    "                dxy = np.min(spatial.distance.cdist(coords[combs[i][0]].T, coords[combs[i][1]].T, metric='euclidean'))\n",
    "                print(combs[i], dxy, sep='\\t')\n",
    "                \n",
    "                if dxy < 20:\n",
    "                    merged[combs[i][1]].append(combs[i][0])\n",
    "            \n",
    "            print('merge dict:\\t', merged)\n",
    "            \n",
    "            for j,i in enumerate(where):\n",
    "                k = i  \n",
    "                while len(merged[k]) > 0:\n",
    "                    k = min(merged[k])\n",
    "                print(i, '-->', k, sep='\\t')\n",
    "                labels[labels == i+1] = k+1\n",
    "                where[j] = k\n",
    "            \n",
    "            where = np.unique(where)\n",
    "            print('where:\\t', where)"
   ]
  },
  {
   "cell_type": "code",
   "execution_count": 31,
   "id": "0900ed9e",
   "metadata": {},
   "outputs": [
    {
     "name": "stdout",
     "output_type": "stream",
     "text": [
      "1\n"
     ]
    }
   ],
   "source": [
    "if (img.max() > 160) and (num > 0):\n",
    "    coms = np.asarray(ndimage.center_of_mass(skel, labels, where+1))\n",
    "    coms = coms[(tape[idx] - (coms[:,0] + rawy[idx]))/tape[idx] > 0.1]\n",
    "    print(len(coms))\n",
    "    dmask = []\n",
    "    dcom = []\n",
    "    \n",
    "    for i in range(len(coms)):\n",
    "        com = coms[i]\n",
    "        dd = np.sqrt(np.sum((cross - com.reshape(-1,1))**2, axis=0))\n",
    "        dmask.append(dd < 20)\n",
    "        foo = dd[dmask[i]]\n",
    "        dcom.append(np.max(foo) + 1 - foo)\n",
    "else:\n",
    "    coms = []"
   ]
  },
  {
   "cell_type": "code",
   "execution_count": 32,
   "id": "60d88175",
   "metadata": {},
   "outputs": [
    {
     "name": "stdout",
     "output_type": "stream",
     "text": [
      "2\n",
      "[49.98358643]\n"
     ]
    }
   ],
   "source": [
    "coefs = np.zeros((len(coms), 2))\n",
    "angle = np.zeros(len(coms))\n",
    "\n",
    "for i in range(len(coms)):\n",
    "    X = cross[1, dmask[i]].reshape(-1,1)\n",
    "    print(X.shape[1] + 1)\n",
    "    reg = linear.RANSACRegressor(random_state=4, min_samples=4).fit(X, cross[0,dmask[i]], sample_weight = dcom[i])\n",
    "    coef1 = np.diff(reg.predict([[0],[1]]))[0]\n",
    "    coef0 = reg.predict([[0]])[0]\n",
    "    \n",
    "    w0 = np.array([1, coef1])\n",
    "    w = w0/np.linalg.norm(w0)\n",
    "    \n",
    "    coefs[i] = [coef0, coef1]\n",
    "    angle[i] = -np.sign(coef1)*np.arccos(np.abs(np.sum(w*n[idx])))\n",
    "    \n",
    "print(np.rad2deg(angle))"
   ]
  },
  {
   "cell_type": "code",
   "execution_count": 33,
   "id": "974add70-2087-4baf-ac0e-002f048beff8",
   "metadata": {},
   "outputs": [],
   "source": [
    "img1 = tf.imread(filenames[anums[idx]])//40\n",
    "img1[img1 > 2] = 0\n",
    "scalebar = len(img1) - np.asarray([20, 20 + 28*2])\n",
    "#img1[img1 > 1] = 2\n",
    "\n",
    "#plt.imshow(img1)"
   ]
  },
  {
   "cell_type": "code",
   "execution_count": 34,
   "id": "39381eb0",
   "metadata": {},
   "outputs": [
    {
     "data": {
      "text/plain": [
       "40"
      ]
     },
     "execution_count": 34,
     "metadata": {},
     "output_type": "execute_result"
    }
   ],
   "source": [
    "C = np.array([np.array([137, 685, 400, 666]),\n",
    "              np.array([329, 733, 528, 742]),\n",
    "              np.array([419, 976, 603, 818]),\n",
    "              np.array([ 342,  945,  710, 1009]),\n",
    "              np.array([474, 962, 735, 857])])\n",
    "w = (C[:,3] - C[:,2])\n",
    "h = (C[:,1] - C[:,0])\n",
    "W = int(np.max(w/h)*h[pidx]) - w[pidx]\n",
    "ww = W//2\n",
    "ww"
   ]
  },
  {
   "cell_type": "code",
   "execution_count": 35,
   "id": "0192f05c",
   "metadata": {},
   "outputs": [
    {
     "name": "stdout",
     "output_type": "stream",
     "text": [
      "../proc/plots/4pm_rep7_plant2_v08_0448\n"
     ]
    },
    {
     "data": {
      "image/png": "[encoded data removed]",
      "text/plain": [
       "<Figure size 600x800 with 1 Axes>"
      ]
     },
     "metadata": {},
     "output_type": "display_data"
    }
   ],
   "source": [
    "colors = [None, '#117733', '#aa4499', '#332288', '#ddcc77', '#88ccee', '#44aa99']\n",
    "\n",
    "fig, ax = plt.subplots(1,1,figsize=(6,8), sharex=True, sharey=True)\n",
    "ax = np.atleast_1d(ax).ravel()\n",
    "\n",
    "ax[0].imshow(np.pad(img1, ((0,0), (ww,ww))), cmap='inferno', vmin=0, vmax=3, zorder = 1, origin='upper');\n",
    "\n",
    "for i in range(len(coms)):\n",
    "    i = -i - 1 \n",
    "    xy1 = (coms[i,1]+ww, coms[i,0])\n",
    "    xy2 = np.array([xy1[0]-85, xy1[0]+85])\n",
    "    grad = (dcom[i]/np.max(dcom[i]))\n",
    "\n",
    "    #ax[0].axline(xy1, slope = ll[idx][1]-ll[idx][0], c='yellow', alpha=1, lw=2, ls='-.', zorder=3)\n",
    "    ax[0].plot([xy1[0]-85, xy1[0]+85], [xy1[1], xy1[1]], c=colors[6], alpha=1, lw=3, ls='-', zorder=3)\n",
    "    ax[0].axline(xy1, slope = coefs[i,1], c=colors[6+i], alpha=1, lw=15, zorder=4)\n",
    "    \n",
    "    ax[0].scatter(cross[1, dmask[i]]+ww, cross[0, dmask[i]], \n",
    "                  c=dcom[i], alpha=1, marker='o', cmap='viridis', s=750*grad, zorder=10)\n",
    "    \n",
    "    ax[0].scatter(*xy1, c='w', s=750, marker='*', zorder=15, edgecolor='k', linewidths=2)\n",
    "    wedges = Wedge(xy1, 50, np.rad2deg(np.arctan(coefs[i,1])), \n",
    "                   np.rad2deg(np.arctan(ll[idx][1]-ll[idx][0])),\n",
    "                   #width = 5,\n",
    "                   facecolor='lightpink', edgecolor='fuchsia', lw=4, alpha=1, zorder=9) \n",
    "    ax[0].add_patch(wedges)\n",
    "\n",
    "ax[0].plot([20,20], scalebar, c='yellow', lw=8, zorder=11)\n",
    "ax[0].scatter(scoords[1]+ww, scoords[0], c='w', marker='o', zorder=6, s=20, alpha=1)\n",
    "ax[0].scatter(scoords[1]+ww, scoords[0], c='k', marker='.', zorder=6, s=0.1, alpha=1)\n",
    "ax[0].plot(ll[idx]+ww,xx[idx], color='red', lw=3, zorder=2);\n",
    "ax[0].axis('off')\n",
    "ax[0].margins(0)\n",
    "\n",
    "fig.tight_layout()\n",
    "\n",
    "filename = '{}{}_rep{}_plant{}_v08_{:04d}'.format(dst,time,rep,pidx,nums[anums[idx]])\n",
    "print(filename)\n",
    "plt.savefig(filename + '.jpg', format='jpg', dpi=200, pil_kwargs={'optimize':True}, bbox_inches='tight')"
   ]
  },
  {
   "cell_type": "code",
   "execution_count": 20,
   "id": "923cbc2b-11e5-4524-bde4-f0a2e5122a2a",
   "metadata": {},
   "outputs": [],
   "source": [
    "img0 = tf.imread(filenames[anums[idx]])\n",
    "img1 = tf.imread(filenames[anums[idx]])//40\n",
    "img1[img1 > 1] = 2\n",
    "img1[img0 > 160] += 2"
   ]
  },
  {
   "cell_type": "code",
   "execution_count": 21,
   "id": "750d6b7e-e15a-43c9-bb13-883d79c1c546",
   "metadata": {},
   "outputs": [
    {
     "name": "stdout",
     "output_type": "stream",
     "text": [
      "../proc/plots/4pm_rep7_plant2_v06_0330\n"
     ]
    },
    {
     "data": {
      "image/png": "[encoded data removed]",
      "text/plain": [
       "<Figure size 600x800 with 1 Axes>"
      ]
     },
     "metadata": {},
     "output_type": "display_data"
    }
   ],
   "source": [
    "colors = [None, '#117733', '#aa4499', '#332288', '#ddcc77', '#88ccee', '#44aa99']\n",
    "\n",
    "fig, ax = plt.subplots(1,1,figsize=(6,8), sharex=True, sharey=True)\n",
    "ax = np.atleast_1d(ax).ravel()\n",
    "\n",
    "ax[0].imshow(np.pad(img1, ((0,0), (ww,ww))), cmap='inferno', vmin=0, vmax = 3, zorder = 1, origin='upper');\n",
    "\n",
    "ax[0].plot([20,20], scalebar, c='yellow', lw=8, zorder=11)\n",
    "ax[0].scatter(scoords[1]+ww, scoords[0], c='w', marker='o', zorder=6, s=20, alpha=1)\n",
    "ax[0].scatter(scoords[1]+ww, scoords[0], c='k', marker='.', zorder=6, s=0.1, alpha=1)\n",
    "ax[0].plot(ll[idx]+ww,xx[idx], color='red', lw=3, zorder=2);\n",
    "ax[0].axis('off')\n",
    "ax[0].margins(0)\n",
    "\n",
    "fig.tight_layout()\n",
    "\n",
    "filename = '{}{}_rep{}_plant{}_v06_{:04d}'.format(dst,time,rep,pidx,nums[anums[idx]])\n",
    "print(filename)\n",
    "plt.savefig(filename + '.jpg', format='jpg', dpi=200, pil_kwargs={'optimize':True}, bbox_inches='tight')"
   ]
  },
  {
   "cell_type": "code",
   "execution_count": null,
   "id": "4a6d92e0-5278-41d3-8e6d-66676e43d358",
   "metadata": {},
   "outputs": [],
   "source": []
  }
 ],
 "metadata": {
  "kernelspec": {
   "display_name": "Python 3 (ipykernel)",
   "language": "python",
   "name": "python3"
  },
  "language_info": {
   "codemirror_mode": {
    "name": "ipython",
    "version": 3
   },
   "file_extension": ".py",
   "mimetype": "text/x-python",
   "name": "python",
   "nbconvert_exporter": "python",
   "pygments_lexer": "ipython3",
   "version": "3.10.12"
  }
 },
 "nbformat": 4,
 "nbformat_minor": 5
}
